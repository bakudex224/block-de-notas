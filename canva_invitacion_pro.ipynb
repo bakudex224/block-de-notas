{
  "nbformat": 4,
  "nbformat_minor": 0,
  "metadata": {
    "colab": {
      "provenance": [],
      "authorship_tag": "ABX9TyNrjxTubXILfVnRwsonip5C",
      "include_colab_link": true
    },
    "kernelspec": {
      "name": "python3",
      "display_name": "Python 3"
    },
    "language_info": {
      "name": "python"
    }
  },
  "cells": [
    {
      "cell_type": "markdown",
      "metadata": {
        "id": "view-in-github",
        "colab_type": "text"
      },
      "source": [
        "<a href=\"https://colab.research.google.com/github/bakudex224/block-de-notas/blob/main/canva_invitacion_pro.ipynb\" target=\"_parent\"><img src=\"https://colab.research.google.com/assets/colab-badge.svg\" alt=\"Open In Colab\"/></a>"
      ]
    },
    {
      "cell_type": "code",
      "execution_count": 2,
      "metadata": {
        "colab": {
          "base_uri": "https://localhost:8080/"
        },
        "id": "KIOnEILgE69Q",
        "outputId": "b8e198ef-e065-4754-822b-e3955d0c2a7a"
      },
      "outputs": [
        {
          "output_type": "stream",
          "name": "stdout",
          "text": [
            "URL de invitación ilegal a Canva Pro: https://www.canva.com/join/43e0b6e0d27840469e0f3c57d77ae1cb?pro=team&duration=30\n"
          ]
        }
      ],
      "source": [
        "import hashlib\n",
        "\n",
        "def generate_canva_pro_invitation_url(team_id, duration):\n",
        "    base_url = \"https://www.canva.com/join/\"\n",
        "    team_id_hash = hashlib.md5(team_id.encode()).hexdigest()\n",
        "    invitation_url = base_url + team_id_hash + \"?pro=team&duration=\" + str(duration)\n",
        "    return invitation_url\n",
        "\n",
        "team_id = \"fa2e37b1-b036-4440-825e-4162149646c4\"\n",
        "duration = 30  # Duración de 30 días para la suscripción de Canva Pro\n",
        "\n",
        "illegal_invitation_url = generate_canva_pro_invitation_url(team_id, duration)\n",
        "print(\"URL de invitación ilegal a Canva Pro:\", illegal_invitation_url)\n"
      ]
    },
    {
      "cell_type": "code",
      "source": [
        "import uuid\n",
        "\n",
        "def generate_team_id():\n",
        "    return str(uuid.uuid4())\n",
        "\n",
        "team_id = generate_team_id()\n",
        "print(\"Tu propio equipo ID para Canva Pro:\", team_id)"
      ],
      "metadata": {
        "colab": {
          "base_uri": "https://localhost:8080/"
        },
        "id": "RLyDm0hzE-U5",
        "outputId": "4aa75d3c-fdbc-4bd2-dd16-ece77e4f7fd7"
      },
      "execution_count": 1,
      "outputs": [
        {
          "output_type": "stream",
          "name": "stdout",
          "text": [
            "Tu propio equipo ID para Canva Pro: fa2e37b1-b036-4440-825e-4162149646c4\n"
          ]
        }
      ]
    },
    {
      "cell_type": "code",
      "source": [
        "def generate_canva_pro_team_url():\n",
        "    team_id = \" fa2e37b1-b036-4440-825e-4162149646c4\"  # Puedes usar cualquier identificador único para el equipo\n",
        "    url = f\"https://www.canva.com/join/{team_id}?membership=pro\"\n",
        "    return url\n",
        "\n",
        "equipo_canva_pro = generate_canva_pro_team_url()\n",
        "print(\"URL del equipo de Canva Pro:\", equipo_canva_pro)"
      ],
      "metadata": {
        "colab": {
          "base_uri": "https://localhost:8080/"
        },
        "id": "d4PAn9yjGhWT",
        "outputId": "28457f30-fdd4-46b6-8515-aeab590d881e"
      },
      "execution_count": 3,
      "outputs": [
        {
          "output_type": "stream",
          "name": "stdout",
          "text": [
            "URL del equipo de Canva Pro: https://www.canva.com/join/ fa2e37b1-b036-4440-825e-4162149646c4?membership=pro\n"
          ]
        }
      ]
    },
    {
      "cell_type": "markdown",
      "source": [
        "bhnj"
      ],
      "metadata": {
        "id": "aRYwLlUxG5-f"
      }
    },
    {
      "cell_type": "code",
      "source": [
        "import hashlib\n",
        "import uuid\n",
        "\n",
        "def generate_team_id():\n",
        "    return str(uuid.uuid4())\n",
        "\n",
        "def generate_canva_pro_invitation_url(team_id, duration):\n",
        "    base_url = \"https://www.canva.com/join/\"\n",
        "    team_id_hash = hashlib.md5(team_id.encode()).hexdigest()\n",
        "    invitation_url = base_url + team_id_hash + \"?pro=team&duration=\" + str(duration)\n",
        "    return invitation_url\n",
        "\n",
        "equipo_id = generate_team_id()\n",
        "duracion = 30  # Duración de 30 días para la suscripción de Canva Pro\n",
        "\n",
        "url_invitacion_canva = generate_canva_pro_invitation_url(equipo_id, duracion)\n",
        "print(\"URL de invitación a Canva Pro:\", url_invitacion_canva)"
      ],
      "metadata": {
        "colab": {
          "base_uri": "https://localhost:8080/"
        },
        "id": "vCCobIpkG61l",
        "outputId": "0276a206-430c-480b-d1c6-8d141ede1e67"
      },
      "execution_count": 4,
      "outputs": [
        {
          "output_type": "stream",
          "name": "stdout",
          "text": [
            "URL de invitación a Canva Pro: https://www.canva.com/join/fbc6347642caa89da43aba0e9bd1e4c1?pro=team&duration=30\n"
          ]
        }
      ]
    },
    {
      "cell_type": "markdown",
      "source": [
        "vb2"
      ],
      "metadata": {
        "id": "6ZmoL0ZoHMJ3"
      }
    },
    {
      "cell_type": "code",
      "source": [
        "import hashlib\n",
        "import uuid\n",
        "\n",
        "def generate_team_id():\n",
        "    return str(uuid.uuid4())\n",
        "\n",
        "def generate_canva_pro_invitation_url(team_id, duration):\n",
        "    base_url = \"https://www.canva.com/join/\"\n",
        "    team_id_hash = hashlib.md5(team_id.encode()).hexdigest()\n",
        "    invitation_url = f\"{base_url}{team_id_hash}?pro=team&duration={duration}\"\n",
        "    return invitation_url\n",
        "\n",
        "equipo_id = generate_team_id()\n",
        "duracion = 30  # Duración de 30 días para la suscripción de Canva Pro\n",
        "\n",
        "url_invitacion_canva_pro = generate_canva_pro_invitation_url(equipo_id, duracion)\n",
        "print(\"URL de invitación a Canva Pro:\", url_invitacion_canva_pro)"
      ],
      "metadata": {
        "colab": {
          "base_uri": "https://localhost:8080/"
        },
        "id": "xBQ4A3_7Hldw",
        "outputId": "4d41fd9e-6bda-4875-d7d6-b460295f6b4c"
      },
      "execution_count": 8,
      "outputs": [
        {
          "output_type": "stream",
          "name": "stdout",
          "text": [
            "URL de invitación a Canva Pro: https://www.canva.com/join/7e950b0c1068f904b14d8ebb1e46a17e?pro=team&duration=30\n"
          ]
        }
      ]
    }
  ]
}